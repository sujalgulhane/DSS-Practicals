{
 "cells": [
  {
   "cell_type": "markdown",
   "id": "893a4ef2",
   "metadata": {},
   "source": [
    "#   Central Tendency of Measures"
   ]
  },
  {
   "cell_type": "code",
   "execution_count": 1,
   "id": "d316c351",
   "metadata": {},
   "outputs": [],
   "source": [
    "# Experiment No. 8"
   ]
  },
  {
   "cell_type": "code",
   "execution_count": 2,
   "id": "7bd3524c",
   "metadata": {},
   "outputs": [],
   "source": [
    "# Name : Sujal P. Gulhane\n",
    "# Roll : 71\n",
    "# sec : A"
   ]
  },
  {
   "cell_type": "code",
   "execution_count": 3,
   "id": "a2a8e3fe",
   "metadata": {},
   "outputs": [],
   "source": [
    "# Aim : To perform Certral Tendency of Measures"
   ]
  },
  {
   "cell_type": "code",
   "execution_count": 4,
   "id": "0463d91d",
   "metadata": {},
   "outputs": [],
   "source": [
    "age =[21,22,22,23,25,19,20,22,21,22,18,24,19,23,24,23,22,22,22]"
   ]
  },
  {
   "cell_type": "code",
   "execution_count": 5,
   "id": "da7a5b39",
   "metadata": {},
   "outputs": [
    {
     "data": {
      "text/plain": [
       "[21, 22, 22, 23, 25, 19, 20, 22, 21, 22, 18, 24, 19, 23, 24, 23, 22, 22, 22]"
      ]
     },
     "execution_count": 5,
     "metadata": {},
     "output_type": "execute_result"
    }
   ],
   "source": [
    "age"
   ]
  },
  {
   "cell_type": "code",
   "execution_count": 7,
   "id": "e50362ed",
   "metadata": {},
   "outputs": [],
   "source": [
    "import statistics as st"
   ]
  },
  {
   "cell_type": "code",
   "execution_count": 8,
   "id": "262bfebd",
   "metadata": {},
   "outputs": [],
   "source": [
    "Mean = st.mean(age)"
   ]
  },
  {
   "cell_type": "code",
   "execution_count": 10,
   "id": "9dd8a15e",
   "metadata": {},
   "outputs": [
    {
     "data": {
      "text/plain": [
       "21.789473684210527"
      ]
     },
     "execution_count": 10,
     "metadata": {},
     "output_type": "execute_result"
    }
   ],
   "source": [
    "Mean"
   ]
  },
  {
   "cell_type": "code",
   "execution_count": 11,
   "id": "d23ec4de",
   "metadata": {},
   "outputs": [],
   "source": [
    "Median = st.median(age)"
   ]
  },
  {
   "cell_type": "code",
   "execution_count": 12,
   "id": "9d62793e",
   "metadata": {},
   "outputs": [
    {
     "data": {
      "text/plain": [
       "22"
      ]
     },
     "execution_count": 12,
     "metadata": {},
     "output_type": "execute_result"
    }
   ],
   "source": [
    "Median"
   ]
  },
  {
   "cell_type": "code",
   "execution_count": 13,
   "id": "1136cc23",
   "metadata": {},
   "outputs": [],
   "source": [
    "Mode = st.mode(age)"
   ]
  },
  {
   "cell_type": "code",
   "execution_count": 14,
   "id": "f9b1b2f4",
   "metadata": {},
   "outputs": [
    {
     "data": {
      "text/plain": [
       "22"
      ]
     },
     "execution_count": 14,
     "metadata": {},
     "output_type": "execute_result"
    }
   ],
   "source": [
    "Mode"
   ]
  },
  {
   "cell_type": "code",
   "execution_count": null,
   "id": "54cea245",
   "metadata": {},
   "outputs": [],
   "source": []
  }
 ],
 "metadata": {
  "kernelspec": {
   "display_name": "Python 3 (ipykernel)",
   "language": "python",
   "name": "python3"
  },
  "language_info": {
   "codemirror_mode": {
    "name": "ipython",
    "version": 3
   },
   "file_extension": ".py",
   "mimetype": "text/x-python",
   "name": "python",
   "nbconvert_exporter": "python",
   "pygments_lexer": "ipython3",
   "version": "3.11.5"
  }
 },
 "nbformat": 4,
 "nbformat_minor": 5
}
